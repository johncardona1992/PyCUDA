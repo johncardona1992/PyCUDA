{
 "cells": [
  {
   "cell_type": "code",
   "execution_count": 1,
   "source": [
    "import numpy as np\r\n",
    "import pycuda.autoinit\r\n",
    "from pycuda import gpuarray\r\n",
    "from pycuda.scan import InclusiveScanKernel\r\n",
    "seq = np.array([1,2,3,4],dtype=np.int32)\r\n",
    "seq_gpu = gpuarray.to_gpu(seq)\r\n",
    "sum_gpu = InclusiveScanKernel(np.int32, \"a+b\")\r\n",
    "print sum_gpu(seq_gpu).get()\r\n",
    "print np.cumsum(seq)"
   ],
   "outputs": [
    {
     "output_type": "stream",
     "name": "stderr",
     "text": [
      "C:\\Users\\Usuario\\.conda\\envs\\env27\\lib\\site-packages\\pycuda\\scan.py:373: UserWarning: The CUDA compiler succeeded, but said the following:\n",
      "kernel.cu\n",
      "\n",
      "  scan_intervals_src, options=options, no_extern_c=True)\n"
     ]
    },
    {
     "output_type": "stream",
     "name": "stdout",
     "text": [
      "[ 1  3  6 10]\n",
      "[ 1  3  6 10]\n"
     ]
    },
    {
     "output_type": "stream",
     "name": "stderr",
     "text": [
      "C:\\Users\\Usuario\\.conda\\envs\\env27\\lib\\site-packages\\pycuda\\scan.py:383: UserWarning: The CUDA compiler succeeded, but said the following:\n",
      "kernel.cu\n",
      "\n",
      "  final_update_src, options=options, no_extern_c=True)\n"
     ]
    }
   ],
   "metadata": {}
  },
  {
   "cell_type": "code",
   "execution_count": 2,
   "source": [
    "import numpy as np\r\n",
    "import pycuda.autoinit\r\n",
    "from pycuda import gpuarray\r\n",
    "from pycuda.scan import InclusiveScanKernel\r\n",
    "seq = np.array([1,100,-3,-10000, 4, 10000, 66, 14, 21],dtype=np.int32)\r\n",
    "seq_gpu = gpuarray.to_gpu(seq)\r\n",
    "max_gpu = InclusiveScanKernel(np.int32, \"a > b ? a : b\")\r\n",
    "print max_gpu(seq_gpu).get()[-1]\r\n",
    "print np.max(seq)"
   ],
   "outputs": [
    {
     "output_type": "stream",
     "name": "stdout",
     "text": [
      "10000\n",
      "10000\n"
     ]
    }
   ],
   "metadata": {}
  }
 ],
 "metadata": {
  "orig_nbformat": 4,
  "language_info": {
   "mimetype": "text/x-python",
   "nbconvert_exporter": "python",
   "name": "python",
   "pygments_lexer": "ipython2",
   "version": "2.7.18",
   "file_extension": ".py",
   "codemirror_mode": {
    "version": 2,
    "name": "ipython"
   }
  },
  "kernelspec": {
   "name": "python3",
   "display_name": "Python 2.7.18 64-bit ('env27': conda)"
  },
  "interpreter": {
   "hash": "58febcb72c9b00943fb777f7e4ef1933d481b890a4597208f1d95204bbbb2e9a"
  }
 },
 "nbformat": 4,
 "nbformat_minor": 2
}