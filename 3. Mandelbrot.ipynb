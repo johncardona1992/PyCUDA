{
 "cells": [
  {
   "cell_type": "code",
   "execution_count": 5,
   "source": [
    "from time import time\r\n",
    "import matplotlib\r\n",
    "#this will prevent the figure from popping up\r\n",
    "matplotlib.use('Agg')\r\n",
    "from matplotlib import pyplot as plt\r\n",
    "import numpy as np\r\n",
    "import pycuda.autoinit\r\n",
    "from pycuda import gpuarray\r\n",
    "from pycuda.elementwise import ElementwiseKernel\r\n"
   ],
   "outputs": [],
   "metadata": {}
  },
  {
   "cell_type": "code",
   "execution_count": 6,
   "source": [
    "mandel_ker = ElementwiseKernel(\r\n",
    "\"pycuda::complex<float> *lattice, float *mandelbrot_graph, int max_iters, float upper_bound\",\r\n",
    "\"\"\"\r\n",
    "mandelbrot_graph[i] = 1;\r\n",
    "pycuda::complex<float> c = lattice[i];\r\n",
    "pycuda::complex<float> z(0,0);\r\n",
    "for (int j = 0; j < max_iters; j++)\r\n",
    "{\r\n",
    "z = z*z + c;\r\n",
    "if(abs(z) > upper_bound)\r\n",
    "{\r\n",
    "mandelbrot_graph[i] = 0;\r\n",
    "break;\r\n",
    "}\r\n",
    "}\r\n",
    "\"\"\",\r\n",
    "\"mandel_ker\")"
   ],
   "outputs": [],
   "metadata": {}
  },
  {
   "cell_type": "code",
   "execution_count": 7,
   "source": [
    "def gpu_mandelbrot(width, height, real_low, real_high, imag_low, imag_high, max_iters, upper_bound):\r\n",
    "    real_vals = np.matrix(np.linspace(real_low, real_high, width), dtype=np.complex64)\r\n",
    "    imag_vals = np.matrix(np.linspace( imag_high, imag_low, height), dtype=np.complex64) * 1j\r\n",
    "    mandelbrot_lattice = np.array(real_vals + imag_vals.transpose(), dtype=np.complex64)\r\n",
    "\r\n",
    "    # copy complex lattice to the GPU\r\n",
    "    mandelbrot_lattice_gpu = gpuarray.to_gpu(mandelbrot_lattice)\r\n",
    "\r\n",
    "    # allocate an empty array on the GPU\r\n",
    "    mandelbrot_graph_gpu = gpuarray.empty(shape=mandelbrot_lattice.shape, dtype=np.float32)\r\n",
    "    \r\n",
    "    mandel_ker( mandelbrot_lattice_gpu, mandelbrot_graph_gpu, np.int32(max_iters), np.float32(upper_bound))\r\n",
    "\r\n",
    "    mandelbrot_graph = mandelbrot_graph_gpu.get()\r\n",
    "\r\n",
    "    return mandelbrot_graph"
   ],
   "outputs": [],
   "metadata": {}
  },
  {
   "cell_type": "code",
   "execution_count": 8,
   "source": [
    "if __name__ == '__main__':\r\n",
    "\r\n",
    "    t1 = time()\r\n",
    "    mandel = gpu_mandelbrot(512,512,-2,2,-2,2,256, 2)\r\n",
    "    t2 = time()\r\n",
    "\r\n",
    "    mandel_time = t2 - t1\r\n",
    "\r\n",
    "    t1 = time()\r\n",
    "    fig = plt.figure(1)\r\n",
    "    plt.imshow(mandel, extent=(-2, 2, -2, 2))\r\n",
    "    plt.savefig('mandelbrot.png', dpi=fig.dpi)\r\n",
    "    t2 = time()\r\n",
    "\r\n",
    "    dump_time = t2 - t1\r\n",
    "\r\n",
    "    print 'It took {} seconds to calculate the Mandelbrot graph.'.format(mandel_time)\r\n",
    "    print 'It took {} seconds to dump the image.'.format(dump_time)\r\n"
   ],
   "outputs": [
    {
     "output_type": "stream",
     "name": "stdout",
     "text": [
      "It took 3.01099991798 seconds to calculate the Mandelbrot graph.\n",
      "It took 0.143000125885 seconds to dump the image.\n"
     ]
    },
    {
     "output_type": "stream",
     "name": "stderr",
     "text": [
      "C:\\Users\\Usuario\\.conda\\envs\\env27\\lib\\site-packages\\pycuda\\elementwise.py:75: UserWarning: The CUDA compiler succeeded, but said the following:\n",
      "kernel.cu\n",
      "\n",
      "  options=options, keep=keep)\n"
     ]
    }
   ],
   "metadata": {}
  }
 ],
 "metadata": {
  "orig_nbformat": 4,
  "language_info": {
   "mimetype": "text/x-python",
   "nbconvert_exporter": "python",
   "name": "python",
   "pygments_lexer": "ipython2",
   "version": "2.7.18",
   "file_extension": ".py",
   "codemirror_mode": {
    "version": 2,
    "name": "ipython"
   }
  },
  "kernelspec": {
   "name": "python3",
   "display_name": "Python 2.7.18 64-bit ('env27': conda)"
  },
  "interpreter": {
   "hash": "58febcb72c9b00943fb777f7e4ef1933d481b890a4597208f1d95204bbbb2e9a"
  }
 },
 "nbformat": 4,
 "nbformat_minor": 2
}