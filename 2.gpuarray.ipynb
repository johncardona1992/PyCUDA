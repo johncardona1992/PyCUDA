{
 "cells": [
  {
   "cell_type": "code",
   "execution_count": 1,
   "source": [
    "import os\r\n",
    "if os.system(\"cl.exe\"):\r\n",
    "    os.environ['PATH'] += ';'+r\"C:\\Program Files (x86)\\Microsoft Visual Studio\\2019\\Community\\VC\\Tools\\MSVC\\14.29.30037\\bin\\Hostx64\\x64\"\r\n",
    "if os.system(\"cl.exe\"):\r\n",
    "    raise RuntimeError(\"cl.exe still not found, path probably incorrect\")"
   ],
   "outputs": [],
   "metadata": {}
  },
  {
   "cell_type": "code",
   "execution_count": 2,
   "source": [
    "import numpy as np\r\n",
    "import pycuda.autoinit\r\n",
    "from pycuda import gpuarray\r\n",
    "from time import time\r\n",
    "host_data = np.float32( np.random.random(50000000) )"
   ],
   "outputs": [],
   "metadata": {}
  },
  {
   "cell_type": "code",
   "execution_count": 3,
   "source": [
    "t1 = time()\r\n",
    "host_data_2x = host_data * np.float32(2)\r\n",
    "t2 = time()\r\n",
    "\r\n",
    "print 'total time to compute on CPU: %f' % (t2 - t1)"
   ],
   "outputs": [
    {
     "output_type": "stream",
     "name": "stdout",
     "text": [
      "total time to compute on CPU: 0.033000\n"
     ]
    }
   ],
   "metadata": {}
  },
  {
   "cell_type": "code",
   "execution_count": 5,
   "source": [
    "device_data = gpuarray.to_gpu(host_data)\r\n",
    "\r\n",
    "t1 = time()\r\n",
    "device_data_2x = device_data * np.float32( 2 )\r\n",
    "t2 = time()\r\n",
    "\r\n",
    "from_device = device_data_2x.get()\r\n",
    "print 'total time to compute on GPU: %f' % (t2 - t1)\r\n",
    "\r\n",
    "print 'Is the host computation the same as the GPU computation? : {}'.format(np.allclose(from_device, host_data_2x) )"
   ],
   "outputs": [
    {
     "output_type": "stream",
     "name": "stdout",
     "text": [
      "total time to compute on GPU: 0.008000\n",
      "Is the host computation the same as the GPU computation? : True\n"
     ]
    }
   ],
   "metadata": {}
  },
  {
   "cell_type": "code",
   "execution_count": 6,
   "source": [
    "import numpy as np\r\n",
    "import pycuda.autoinit\r\n",
    "from pycuda import gpuarray\r\n",
    "from time import time\r\n",
    "from pycuda.elementwise import ElementwiseKernel\r\n",
    "host_data = np.float32( np.random.random(50000000) )\r\n",
    "gpu_2x_ker = ElementwiseKernel(\r\n",
    "\"float *in, float *out\",\r\n",
    "\"out[i] = 2*in[i];\",\r\n",
    "\"gpu_2x_ker\")"
   ],
   "outputs": [],
   "metadata": {}
  },
  {
   "cell_type": "code",
   "execution_count": 8,
   "source": [
    "def speedcomparison():\r\n",
    "    t1 = time()\r\n",
    "    host_data_2x = host_data * np.float32(2)\r\n",
    "    t2 = time()\r\n",
    "    print 'total time to compute on CPU: %f' % (t2 - t1)\r\n",
    "    device_data = gpuarray.to_gpu(host_data)\r\n",
    "    # allocate memory for output\r\n",
    "    device_data_2x = gpuarray.empty_like(device_data)\r\n",
    "    t1 = time()\r\n",
    "    gpu_2x_ker(device_data, device_data_2x)\r\n",
    "    t2 = time()\r\n",
    "    from_device = device_data_2x.get()\r\n",
    "    print 'total time to compute on GPU: %f' % (t2 - t1)\r\n",
    "    print 'Is the host computation the same as the GPU computation? : {}'.format(np.allclose(from_device, host_data_2x) )\r\n",
    "\r\n",
    "if __name__ == '__main__':\r\n",
    "    speedcomparison()\r\n",
    "    speedcomparison()"
   ],
   "outputs": [
    {
     "output_type": "stream",
     "name": "stdout",
     "text": [
      "total time to compute on CPU: 0.029000\n",
      "total time to compute on GPU: 0.000000\n",
      "Is the host computation the same as the GPU computation? : True\n",
      "total time to compute on CPU: 0.032000\n",
      "total time to compute on GPU: 0.000000\n",
      "Is the host computation the same as the GPU computation? : True\n"
     ]
    }
   ],
   "metadata": {}
  }
 ],
 "metadata": {
  "orig_nbformat": 4,
  "language_info": {
   "mimetype": "text/x-python",
   "nbconvert_exporter": "python",
   "name": "python",
   "pygments_lexer": "ipython2",
   "version": "2.7.18",
   "file_extension": ".py",
   "codemirror_mode": {
    "version": 2,
    "name": "ipython"
   }
  },
  "kernelspec": {
   "name": "python3",
   "display_name": "Python 2.7.18 64-bit ('env27': conda)"
  },
  "interpreter": {
   "hash": "58febcb72c9b00943fb777f7e4ef1933d481b890a4597208f1d95204bbbb2e9a"
  }
 },
 "nbformat": 4,
 "nbformat_minor": 2
}