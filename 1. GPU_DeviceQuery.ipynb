{
    "cells": [
        {
            "cell_type": "code",
            "execution_count": 1,
            "source": [
                "import pycuda.driver as drv\r\n",
                "drv.init()"
            ],
            "outputs": [],
            "metadata": {}
        },
        {
            "cell_type": "code",
            "execution_count": 2,
            "source": [
                "print 'Detected {} CUDA Capable device(s)'.format(drv.Device.count())"
            ],
            "outputs": [
                {
                    "output_type": "stream",
                    "name": "stdout",
                    "text": [
                        "Detected 1 CUDA Capable device(s)\n"
                    ]
                }
            ],
            "metadata": {}
        },
        {
            "cell_type": "code",
            "execution_count": 3,
            "source": [
                "for i in range(drv.Device.count()):\r\n",
                "    gpu_device = drv.Device(i)\r\n",
                "    print 'Device {}: {}'.format( i, gpu_device.name() )\r\n",
                "    compute_capability = float( '%d.%d' % gpu_device.compute_capability() )\r\n",
                "    print '\\t Compute Capability: {}'.format(compute_capability)\r\n",
                "    print '\\t Total Memory: {} megabytes'.format(gpu_device.total_memory()//(1024**2))"
            ],
            "outputs": [
                {
                    "output_type": "stream",
                    "name": "stdout",
                    "text": [
                        "Device 0: NVIDIA GeForce RTX 3060\n",
                        "\t Compute Capability: 8.6\n",
                        "\t Total Memory: 12288 megabytes\n"
                    ]
                }
            ],
            "metadata": {}
        },
        {
            "cell_type": "code",
            "execution_count": 6,
            "source": [
                "device_attributes_tuples = gpu_device.get_attributes().iteritems()\r\n",
                "device_attributes = {}\r\n",
                "\r\n",
                "for k, v in device_attributes_tuples:\r\n",
                "    device_attributes[str(k)] = v\r\n",
                "\r\n",
                "num_mp = device_attributes['MULTIPROCESSOR_COUNT']\r\n",
                "print num_mp"
            ],
            "outputs": [
                {
                    "output_type": "stream",
                    "name": "stdout",
                    "text": [
                        "28\n"
                    ]
                }
            ],
            "metadata": {}
        },
        {
            "cell_type": "code",
            "execution_count": 10,
            "source": [
                "cuda_cores_per_mp = { 5.0 : 128, 5.1 : 128, 5.2 : 128, 6.0 : 64, 6.1 : 128, 8.6 : 128}[compute_capability]"
            ],
            "outputs": [],
            "metadata": {}
        },
        {
            "cell_type": "code",
            "execution_count": 11,
            "source": [
                "    print '\\t ({}) Multiprocessors, ({}) CUDA Cores / Multiprocessor: {} CUDA Cores'.format(num_mp, cuda_cores_per_mp, num_mp*cuda_cores_per_mp)"
            ],
            "outputs": [
                {
                    "output_type": "stream",
                    "name": "stdout",
                    "text": [
                        "\t (28) Multiprocessors, (128) CUDA Cores / Multiprocessor: 3584 CUDA Cores\n"
                    ]
                }
            ],
            "metadata": {}
        },
        {
            "cell_type": "code",
            "execution_count": 12,
            "source": [
                "device_attributes.pop('MULTIPROCESSOR_COUNT')\r\n",
                "\r\n",
                "for k in device_attributes.keys():\r\n",
                "    print '\\t {}: {}'.format(k, device_attributes[k])"
            ],
            "outputs": [
                {
                    "output_type": "stream",
                    "name": "stdout",
                    "text": [
                        "\t MAXIMUM_TEXTURE2D_LINEAR_PITCH: 2097120\n",
                        "\t MAXIMUM_TEXTURE2D_GATHER_WIDTH: 32768\n",
                        "\t MAXIMUM_TEXTURE2D_GATHER_HEIGHT: 32768\n",
                        "\t PCI_DEVICE_ID: 0\n",
                        "\t MAXIMUM_TEXTURE3D_WIDTH: 16384\n",
                        "\t MAXIMUM_SURFACE2D_WIDTH: 131072\n",
                        "\t MAXIMUM_TEXTURE1D_MIPMAPPED_WIDTH: 32768\n",
                        "\t GLOBAL_MEMORY_BUS_WIDTH: 192\n",
                        "\t LOCAL_L1_CACHE_SUPPORTED: 1\n",
                        "\t MAXIMUM_SURFACE3D_DEPTH: 16384\n",
                        "\t MAXIMUM_TEXTURE3D_HEIGHT: 16384\n",
                        "\t PCI_DOMAIN_ID: 0\n",
                        "\t COMPUTE_CAPABILITY_MINOR: 6\n",
                        "\t MULTI_GPU_BOARD_GROUP_ID: 0\n",
                        "\t MAX_REGISTERS_PER_BLOCK: 65536\n",
                        "\t MAXIMUM_TEXTURE2D_ARRAY_WIDTH: 32768\n",
                        "\t COMPUTE_CAPABILITY_MAJOR: 8\n",
                        "\t MAXIMUM_SURFACE2D_LAYERED_HEIGHT: 32768\n",
                        "\t MAXIMUM_TEXTURE1D_LAYERED_LAYERS: 2048\n",
                        "\t UNIFIED_ADDRESSING: 1\n",
                        "\t MAXIMUM_TEXTURE1D_LINEAR_WIDTH: 268435456\n",
                        "\t MAXIMUM_SURFACE3D_WIDTH: 16384\n",
                        "\t MAXIMUM_SURFACE2D_HEIGHT: 65536\n",
                        "\t ECC_ENABLED: 0\n",
                        "\t MAXIMUM_TEXTURE2D_ARRAY_NUMSLICES: 2048\n",
                        "\t MAX_GRID_DIM_Y: 65535\n",
                        "\t MAX_GRID_DIM_X: 2147483647\n",
                        "\t MAX_GRID_DIM_Z: 65535\n",
                        "\t SURFACE_ALIGNMENT: 512\n",
                        "\t MAXIMUM_TEXTURE3D_DEPTH_ALTERNATE: 32768\n",
                        "\t MAXIMUM_SURFACE1D_LAYERED_LAYERS: 2048\n",
                        "\t TOTAL_CONSTANT_MEMORY: 65536\n",
                        "\t MAXIMUM_SURFACE1D_LAYERED_WIDTH: 32768\n",
                        "\t MAXIMUM_SURFACECUBEMAP_LAYERED_LAYERS: 2046\n",
                        "\t MAXIMUM_TEXTURE3D_HEIGHT_ALTERNATE: 8192\n",
                        "\t MAXIMUM_SURFACE2D_LAYERED_LAYERS: 2048\n",
                        "\t MAXIMUM_TEXTURECUBEMAP_WIDTH: 32768\n",
                        "\t GPU_OVERLAP: 1\n",
                        "\t MAXIMUM_TEXTURE3D_DEPTH: 16384\n",
                        "\t CAN_MAP_HOST_MEMORY: 1\n",
                        "\t INTEGRATED: 0\n",
                        "\t MAXIMUM_SURFACE1D_WIDTH: 32768\n",
                        "\t MAX_THREADS_PER_MULTIPROCESSOR: 1536\n",
                        "\t MAXIMUM_TEXTURE2D_MIPMAPPED_HEIGHT: 32768\n",
                        "\t STREAM_PRIORITIES_SUPPORTED: 1\n",
                        "\t MAXIMUM_SURFACECUBEMAP_WIDTH: 32768\n",
                        "\t MAXIMUM_TEXTURE1D_LAYERED_WIDTH: 32768\n",
                        "\t PCI_BUS_ID: 1\n",
                        "\t GLOBAL_L1_CACHE_SUPPORTED: 1\n",
                        "\t TEXTURE_ALIGNMENT: 512\n",
                        "\t ASYNC_ENGINE_COUNT: 5\n",
                        "\t MAX_PITCH: 2147483647\n",
                        "\t MAXIMUM_SURFACE2D_LAYERED_WIDTH: 32768\n",
                        "\t CLOCK_RATE: 1852000\n",
                        "\t MAXIMUM_TEXTURE2D_HEIGHT: 65536\n",
                        "\t MAXIMUM_SURFACE3D_HEIGHT: 16384\n",
                        "\t MAXIMUM_TEXTURECUBEMAP_LAYERED_WIDTH: 32768\n",
                        "\t TEXTURE_PITCH_ALIGNMENT: 32\n",
                        "\t MAXIMUM_TEXTURE3D_WIDTH_ALTERNATE: 8192\n",
                        "\t MAXIMUM_SURFACECUBEMAP_LAYERED_WIDTH: 32768\n",
                        "\t MAXIMUM_TEXTURE2D_MIPMAPPED_WIDTH: 32768\n",
                        "\t MAXIMUM_TEXTURE2D_LINEAR_WIDTH: 131072\n",
                        "\t TCC_DRIVER: 0\n",
                        "\t MAXIMUM_TEXTURECUBEMAP_LAYERED_LAYERS: 2046\n",
                        "\t WARP_SIZE: 32\n",
                        "\t CONCURRENT_KERNELS: 1\n",
                        "\t MAX_BLOCK_DIM_Z: 64\n",
                        "\t MAXIMUM_TEXTURE2D_ARRAY_HEIGHT: 32768\n",
                        "\t MAX_THREADS_PER_BLOCK: 1024\n",
                        "\t L2_CACHE_SIZE: 2359296\n",
                        "\t MAXIMUM_TEXTURE2D_LINEAR_HEIGHT: 65000\n",
                        "\t KERNEL_EXEC_TIMEOUT: 1\n",
                        "\t COMPUTE_MODE: DEFAULT\n",
                        "\t MANAGED_MEMORY: 1\n",
                        "\t MULTI_GPU_BOARD: 0\n",
                        "\t MAXIMUM_TEXTURE2D_WIDTH: 131072\n",
                        "\t MAX_SHARED_MEMORY_PER_BLOCK: 49152\n",
                        "\t MAX_BLOCK_DIM_Y: 1024\n",
                        "\t MAX_BLOCK_DIM_X: 1024\n",
                        "\t MAX_SHARED_MEMORY_PER_MULTIPROCESSOR: 102400\n",
                        "\t MAXIMUM_TEXTURE1D_WIDTH: 131072\n",
                        "\t MEMORY_CLOCK_RATE: 7501000\n",
                        "\t MAX_REGISTERS_PER_MULTIPROCESSOR: 65536\n"
                    ]
                }
            ],
            "metadata": {}
        }
    ],
    "metadata": {
        "orig_nbformat": 4,
        "language_info": {
            "mimetype": "text/x-python",
            "nbconvert_exporter": "python",
            "name": "python",
            "pygments_lexer": "ipython2",
            "version": "2.7.18",
            "file_extension": ".py",
            "codemirror_mode": {
                "version": 2,
                "name": "ipython"
            }
        },
        "kernelspec": {
            "name": "python3",
            "display_name": "Python 2.7.18 64-bit ('env27': conda)"
        },
        "interpreter": {
            "hash": "58febcb72c9b00943fb777f7e4ef1933d481b890a4597208f1d95204bbbb2e9a"
        }
    },
    "nbformat": 4,
    "nbformat_minor": 2
}