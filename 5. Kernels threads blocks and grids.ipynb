{
 "cells": [
  {
   "cell_type": "code",
   "execution_count": 1,
   "source": [
    "import pycuda.autoinit\r\n",
    "import pycuda.driver as drv\r\n",
    "import numpy as np\r\n",
    "from pycuda import gpuarray\r\n",
    "from pycuda.compiler import SourceModule"
   ],
   "outputs": [],
   "metadata": {}
  },
  {
   "cell_type": "code",
   "execution_count": 2,
   "source": [
    "ker = SourceModule(\"\"\"\r\n",
    "__global__ void scalar_multiply_kernel(float *outvec, float scalar, float *vec)\r\n",
    "{\r\n",
    "int i = threadIdx.x;\r\n",
    "outvec[i] = scalar*vec[i];\r\n",
    "}\r\n",
    "\"\"\")"
   ],
   "outputs": [
    {
     "output_type": "stream",
     "name": "stderr",
     "text": [
      "C:\\Users\\Usuario\\.conda\\envs\\env27\\lib\\site-packages\\ipykernel_launcher.py:7: UserWarning: The CUDA compiler succeeded, but said the following:\n",
      "kernel.cu\n",
      "\n",
      "  import sys\n"
     ]
    }
   ],
   "metadata": {}
  },
  {
   "cell_type": "code",
   "execution_count": 3,
   "source": [
    "scalar_multiply_gpu = ker.get_function(\"scalar_multiply_kernel\")"
   ],
   "outputs": [],
   "metadata": {}
  },
  {
   "cell_type": "code",
   "execution_count": 4,
   "source": [
    "testvec = np.random.randn(512).astype(np.float32)\r\n",
    "testvec_gpu = gpuarray.to_gpu(testvec)\r\n",
    "outvec_gpu = gpuarray.empty_like(testvec_gpu)"
   ],
   "outputs": [],
   "metadata": {}
  },
  {
   "cell_type": "code",
   "execution_count": 5,
   "source": [
    "scalar_multiply_gpu( outvec_gpu, np.float32(2), testvec_gpu, block=(512,1,1), grid=(1,1,1))\r\n",
    "print \"Does our kernel work correctly? : {}\".format(np.allclose(outvec_gpu.get() , 2*testvec) )"
   ],
   "outputs": [
    {
     "output_type": "stream",
     "name": "stdout",
     "text": [
      "Does our kernel work correctly? : True\n"
     ]
    }
   ],
   "metadata": {}
  }
 ],
 "metadata": {
  "orig_nbformat": 4,
  "language_info": {
   "mimetype": "text/x-python",
   "nbconvert_exporter": "python",
   "name": "python",
   "pygments_lexer": "ipython2",
   "version": "2.7.18",
   "file_extension": ".py",
   "codemirror_mode": {
    "version": 2,
    "name": "ipython"
   }
  },
  "kernelspec": {
   "name": "python3",
   "display_name": "Python 2.7.18 64-bit ('env27': conda)"
  },
  "interpreter": {
   "hash": "58febcb72c9b00943fb777f7e4ef1933d481b890a4597208f1d95204bbbb2e9a"
  }
 },
 "nbformat": 4,
 "nbformat_minor": 2
}