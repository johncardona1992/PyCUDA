{
 "cells": [
  {
   "cell_type": "code",
   "execution_count": 1,
   "source": [
    "import pycuda.autoinit\r\n",
    "import pycuda.driver as drv\r\n",
    "from pycuda import gpuarray\r\n",
    "from pycuda.compiler import SourceModule\r\n",
    "import numpy as np\r\n",
    "import matplotlib.pyplot as plt \r\n",
    "import matplotlib.animation as animation "
   ],
   "outputs": [],
   "metadata": {}
  },
  {
   "cell_type": "code",
   "execution_count": null,
   "source": [
    "ker = SourceModule(\"\"\"\r\n",
    "#define _X  ( threadIdx.x + blockIdx.x * blockDim.x )\r\n",
    "#define _Y  ( threadIdx.y + blockIdx.y * blockDim.y )\r\n",
    "\r\n",
    "#define _WIDTH  ( blockDim.x * gridDim.x )\r\n",
    "#define _HEIGHT ( blockDim.y * gridDim.y  )\r\n",
    "\r\n",
    "#define _XM(x)  ( (x + _WIDTH) % _WIDTH )\r\n",
    "#define _YM(y)  ( (y + _HEIGHT) % _HEIGHT )\r\n",
    "\r\n",
    "#define _INDEX(x,y)  ( _XM(x)  + _YM(y) * _WIDTH )\r\n",
    "\r\n",
    "__device__ int nbrs(int x, int y, int * in) { \r\n",
    "    return ( in[ _INDEX(x -1, y+1) ] + in[ _INDEX(x-1, y) ] + in[ _INDEX(x-1, y-1) ] \\ + in[ _INDEX(x, y+1)] + in[_INDEX(x, y - 1)] \\ + in[ _INDEX(x+1, y+1) ] + in[ _INDEX(x+1, y) ] + in[ _INDEX(x+1, y-1) ] ); \r\n",
    "}\r\n",
    "\r\n",
    "__global__ void conway_ker(int * lattice_out, int * lattice ) { \r\n",
    "    // x, y are the appropriate values for the cell covered by this thread int x = _X, y = _Y; // count the number of neighbors around the current cell int n = nbrs(x, y, lattice); // if the current cell is alive, then determine if it lives or dies for the next generation. if ( lattice[_INDEX(x,y)] == 1) switch(n) { // if the cell is alive: it remains alive only if it has 2 or 3 neighbors. case 2: case 3: lattice_out[_INDEX(x,y)] = 1; break; default: lattice_out[_INDEX(x,y)] = 0; } else if( lattice[_INDEX(x,y)] == 0 ) switch(n) { // a dead cell comes to life only if it has 3 neighbors that are alive. case 3: lattice_out[_INDEX(x,y)] = 1; break; default: lattice_out[_INDEX(x,y)] = 0; }}\"\"\") \r\n",
    "\r\n",
    "conway_ker = ker.get_function(\"conway_ker\")\r\n",
    "\r\n",
    "def update_gpu(frameNum, img, newLattice_gpu, lattice_gpu, N):    "
   ],
   "outputs": [],
   "metadata": {}
  }
 ],
 "metadata": {
  "orig_nbformat": 4,
  "language_info": {
   "mimetype": "text/x-python",
   "nbconvert_exporter": "python",
   "name": "python",
   "pygments_lexer": "ipython2",
   "version": "2.7.18",
   "file_extension": ".py",
   "codemirror_mode": {
    "version": 2,
    "name": "ipython"
   }
  },
  "kernelspec": {
   "name": "python3",
   "display_name": "Python 2.7.18 64-bit ('env27': conda)"
  },
  "interpreter": {
   "hash": "58febcb72c9b00943fb777f7e4ef1933d481b890a4597208f1d95204bbbb2e9a"
  }
 },
 "nbformat": 4,
 "nbformat_minor": 2
}