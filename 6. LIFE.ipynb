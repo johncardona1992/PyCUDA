{
 "cells": [
  {
   "cell_type": "code",
   "execution_count": 1,
   "source": [
    "import pycuda.autoinit\r\n",
    "import pycuda.driver as drv\r\n",
    "from pycuda import gpuarray\r\n",
    "from pycuda.compiler import SourceModule\r\n",
    "import numpy as np\r\n",
    "import matplotlib.pyplot as plt \r\n",
    "import matplotlib.animation as animation "
   ],
   "outputs": [],
   "metadata": {}
  },
  {
   "cell_type": "code",
   "execution_count": null,
   "source": [
    "ker = SourceModule(\"\"\"\r\n",
    "#define _X  ( threadIdx.x + blockIdx.x * blockDim.x )\r\n",
    "#define _Y  ( threadIdx.y + blockIdx.y * blockDim.y )\r\n",
    "#define _WIDTH  ( blockDim.x * gridDim.x )\r\n",
    "#define _HEIGHT ( blockDim.y * gridDim.y  )\r\n",
    "\r\n",
    "#define _XM(x)  ( (x + _WIDTH) % _WIDTH )\r\n",
    "#define _YM(y)  ( (y + _HEIGHT) % _HEIGHT )"
   ],
   "outputs": [],
   "metadata": {}
  }
 ],
 "metadata": {
  "orig_nbformat": 4,
  "language_info": {
   "mimetype": "text/x-python",
   "nbconvert_exporter": "python",
   "name": "python",
   "pygments_lexer": "ipython2",
   "version": "2.7.18",
   "file_extension": ".py",
   "codemirror_mode": {
    "version": 2,
    "name": "ipython"
   }
  },
  "kernelspec": {
   "name": "python3",
   "display_name": "Python 2.7.18 64-bit ('env27': conda)"
  },
  "interpreter": {
   "hash": "58febcb72c9b00943fb777f7e4ef1933d481b890a4597208f1d95204bbbb2e9a"
  }
 },
 "nbformat": 4,
 "nbformat_minor": 2
}