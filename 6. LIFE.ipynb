{
 "cells": [
  {
   "cell_type": "code",
   "execution_count": 2,
   "source": [
    "import pycuda.autoinit\r\n",
    "import pycuda.driver as drv\r\n",
    "from pycuda import gpuarray\r\n",
    "from pycuda.compiler import SourceModule\r\n",
    "import numpy as np\r\n",
    "import matplotlib.pyplot as plt \r\n",
    "import matplotlib.animation as animation "
   ],
   "outputs": [],
   "metadata": {}
  },
  {
   "cell_type": "code",
   "execution_count": 7,
   "source": [
    "ker = SourceModule(\"\"\"\r\n",
    "#define _X  ( threadIdx.x + blockIdx.x * blockDim.x )\r\n",
    "#define _Y  ( threadIdx.y + blockIdx.y * blockDim.y )\r\n",
    "\r\n",
    "#define _WIDTH  ( blockDim.x * gridDim.x )\r\n",
    "#define _HEIGHT ( blockDim.y * gridDim.y  )\r\n",
    "\r\n",
    "#define _XM(x)  ( (x + _WIDTH) % _WIDTH )\r\n",
    "#define _YM(y)  ( (y + _HEIGHT) % _HEIGHT )\r\n",
    "\r\n",
    "#define _INDEX(x,y)  ( _XM(x)  + _YM(y) * _WIDTH )\r\n",
    "\r\n",
    "// return the number of living neighbors for a given cell                \r\n",
    "__device__ int nbrs(int x, int y, int * in)\r\n",
    "{\r\n",
    "     return ( in[ _INDEX(x -1, y+1) ] + in[ _INDEX(x-1, y) ] + in[ _INDEX(x-1, y-1) ] \\\r\n",
    "                   + in[ _INDEX(x, y+1)] + in[_INDEX(x, y - 1)] \\\r\n",
    "                   + in[ _INDEX(x+1, y+1) ] + in[ _INDEX(x+1, y) ] + in[ _INDEX(x+1, y-1) ] );\r\n",
    "}\r\n",
    "\r\n",
    "__global__ void conway_ker(int * lattice_out, int * lattice  )\r\n",
    "{\r\n",
    "   // x, y are the appropriate values for the cell covered by this thread\r\n",
    "   int x = _X, y = _Y;\r\n",
    "   \r\n",
    "   // count the number of neighbors around the current cell\r\n",
    "   int n = nbrs(x, y, lattice);\r\n",
    "                   \r\n",
    "    \r\n",
    "    // if the current cell is alive, then determine if it lives or dies for the next generation.\r\n",
    "    if ( lattice[_INDEX(x,y)] == 1)\r\n",
    "       switch(n)\r\n",
    "       {\r\n",
    "          // if the cell is alive: it remains alive only if it has 2 or 3 neighbors.\r\n",
    "          case 2:\r\n",
    "          case 3: lattice_out[_INDEX(x,y)] = 1;\r\n",
    "                  break;\r\n",
    "          default: lattice_out[_INDEX(x,y)] = 0;                   \r\n",
    "       }\r\n",
    "    else if( lattice[_INDEX(x,y)] == 0 )\r\n",
    "         switch(n)\r\n",
    "         {\r\n",
    "            // a dead cell comes to life only if it has 3 neighbors that are alive.\r\n",
    "            case 3: lattice_out[_INDEX(x,y)] = 1;\r\n",
    "                    break;\r\n",
    "            default: lattice_out[_INDEX(x,y)] = 0;         \r\n",
    "         }\r\n",
    "         \r\n",
    "}\r\n",
    "\"\"\")"
   ],
   "outputs": [
    {
     "output_type": "stream",
     "name": "stderr",
     "text": [
      "C:\\Users\\Usuario\\.conda\\envs\\env27\\lib\\site-packages\\ipykernel_launcher.py:50: UserWarning: The CUDA compiler succeeded, but said the following:\n",
      "kernel.cu\n",
      "\n"
     ]
    }
   ],
   "metadata": {}
  },
  {
   "cell_type": "code",
   "execution_count": 9,
   "source": [
    "conway_ker = ker.get_function(\"conway_ker\")"
   ],
   "outputs": [],
   "metadata": {}
  },
  {
   "cell_type": "code",
   "execution_count": 10,
   "source": [
    "def update_gpu(frameNum, img, newLattice_gpu, lattice_gpu, N):\r\n",
    "    \r\n",
    "    conway_ker(  newLattice_gpu, lattice_gpu, grid=(N/32,N/32,1), block=(32,32,1)   )\r\n",
    "    \r\n",
    "    img.set_data(newLattice_gpu.get() )\r\n",
    "    \r\n",
    "    \r\n",
    "    lattice_gpu[:] = newLattice_gpu[:]\r\n",
    "    \r\n",
    "    return img"
   ],
   "outputs": [],
   "metadata": {}
  },
  {
   "cell_type": "code",
   "execution_count": null,
   "source": [
    "if __name__ == '__main__':\r\n",
    "    # set lattice size\r\n",
    "    N = 128\r\n",
    "    \r\n",
    "    lattice = np.int32( np.random.choice([1,0], N*N, p=[0.25, 0.75]).reshape(N, N) )\r\n",
    "    lattice_gpu = gpuarray.to_gpu(lattice)\r\n",
    "    \r\n",
    "    newLattice_gpu = gpuarray.empty_like(lattice_gpu)        \r\n",
    "\r\n",
    "    fig, ax = plt.subplots()\r\n",
    "    img = ax.imshow(lattice_gpu.get(), interpolation='nearest')\r\n",
    "    ani = animation.FuncAnimation(fig, update_gpu, fargs=(img, newLattice_gpu, lattice_gpu, N, ) , interval=0, frames=1000, save_count=1000)\r\n",
    "    plt.show()\r\n"
   ],
   "outputs": [],
   "metadata": {}
  }
 ],
 "metadata": {
  "orig_nbformat": 4,
  "language_info": {
   "mimetype": "text/x-python",
   "nbconvert_exporter": "python",
   "name": "python",
   "pygments_lexer": "ipython2",
   "version": "2.7.18",
   "file_extension": ".py",
   "codemirror_mode": {
    "version": 2,
    "name": "ipython"
   }
  },
  "kernelspec": {
   "name": "python3",
   "display_name": "Python 2.7.18 64-bit ('env27': conda)"
  },
  "interpreter": {
   "hash": "58febcb72c9b00943fb777f7e4ef1933d481b890a4597208f1d95204bbbb2e9a"
  }
 },
 "nbformat": 4,
 "nbformat_minor": 2
}